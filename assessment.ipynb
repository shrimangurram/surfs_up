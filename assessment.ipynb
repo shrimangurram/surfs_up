{
 "cells": [
  {
   "cell_type": "code",
   "execution_count": 22,
   "metadata": {},
   "outputs": [],
   "source": [
    "import json\n",
    "import pandas as pd\n",
    "import numpy as np\n",
    "import os\n",
    "import re\n",
    "import time\n",
    "# Python SQL toolkit and Object Relational Mapper\n",
    "import sqlalchemy\n",
    "from sqlalchemy.ext.automap import automap_base\n",
    "from sqlalchemy.orm import Session\n",
    "from sqlalchemy import create_engine, func\n",
    "import datetime as dt\n"
   ]
  },
  {
   "cell_type": "code",
   "execution_count": 5,
   "metadata": {},
   "outputs": [],
   "source": [
    "# Files to load\n",
    "lstops_data_to_load = os.path.join(\"Data\", \"CTA_-_System_Information_-_List_of__L__Stops.csv\")\n",
    "ridership_data_to_load = os.path.join(\"Data\", \"CTA_-_Ridership_-__L__Station_Entries_-_Daily_Totals.csv\")"
   ]
  },
  {
   "cell_type": "code",
   "execution_count": 6,
   "metadata": {},
   "outputs": [],
   "source": [
    "#load the data\n",
    "l_stops_df = pd.read_csv(lstops_data_to_load)\n",
    "ridership_data_df = pd.read_csv(ridership_data_to_load)"
   ]
  },
  {
   "cell_type": "code",
   "execution_count": 8,
   "metadata": {},
   "outputs": [],
   "source": [
    "station_bools = l_stops_df[['MAP_ID','ADA','RED','BLUE','G','BRN','P','Pexp','Y','Pnk','O']].groupby('MAP_ID').any()\n",
    "l_stops_df = l_stops_df.drop(['STOP_ID', 'DIRECTION_ID', 'STOP_NAME','ADA','RED','BLUE','G','BRN','P','Pexp','Y','Pnk','O'], axis=1).merge(station_bools, how='left', left_on='MAP_ID',right_index=True).drop_duplicates()"
   ]
  },
  {
   "cell_type": "code",
   "execution_count": 9,
   "metadata": {},
   "outputs": [
    {
     "name": "stdout",
     "output_type": "stream",
     "text": [
      "               STATION_NAME  \\\n",
      "0                      18th   \n",
      "2               35th/Archer   \n",
      "4      35th-Bronzeville-IIT   \n",
      "6                      43rd   \n",
      "8                      51st   \n",
      "..                      ...   \n",
      "287  Cermak-McCormick Place   \n",
      "289                  Wilson   \n",
      "290                 Addison   \n",
      "292       Washington/Wabash   \n",
      "298                 Ashland   \n",
      "\n",
      "                              STATION_DESCRIPTIVE_NAME  MAP_ID  \\\n",
      "0                                     18th (Pink Line)   40830   \n",
      "2                            35th/Archer (Orange Line)   40120   \n",
      "4                    35th-Bronzeville-IIT (Green Line)   41120   \n",
      "6                                    43rd (Green Line)   41270   \n",
      "8                                    51st (Green Line)   40130   \n",
      "..                                                 ...     ...   \n",
      "287                Cermak-McCormick Place (Green Line)   41690   \n",
      "289                        Wilson (Red & Purple Lines)   40540   \n",
      "290                                Addison (Blue Line)   41240   \n",
      "292  Washington/Wabash (Brown, Green, Orange, Purpl...   41700   \n",
      "298                       Ashland (Green & Pink Lines)   40170   \n",
      "\n",
      "                    Location   ADA    RED   BLUE      G    BRN      P   Pexp  \\\n",
      "0    (41.857908, -87.669147)  True  False  False  False  False  False  False   \n",
      "2    (41.829353, -87.680622)  True  False  False  False  False  False  False   \n",
      "4    (41.831677, -87.625826)  True  False  False   True  False  False  False   \n",
      "6    (41.816462, -87.619021)  True  False  False   True  False  False  False   \n",
      "8     (41.80209, -87.618487)  True  False  False   True  False  False  False   \n",
      "..                       ...   ...    ...    ...    ...    ...    ...    ...   \n",
      "287  (41.853115, -87.626402)  True  False  False   True  False  False  False   \n",
      "289  (41.964273, -87.657588)  True   True  False  False  False  False   True   \n",
      "290    (41.94738, -87.71906)  True  False   True  False  False  False  False   \n",
      "292   (41.88322, -87.626189)  True  False  False   True   True  False   True   \n",
      "298  (41.885269, -87.666969)  True  False  False   True  False  False  False   \n",
      "\n",
      "         Y    Pnk      O  \n",
      "0    False   True  False  \n",
      "2    False  False   True  \n",
      "4    False  False  False  \n",
      "6    False  False  False  \n",
      "8    False  False  False  \n",
      "..     ...    ...    ...  \n",
      "287  False  False  False  \n",
      "289  False  False  False  \n",
      "290  False  False  False  \n",
      "292  False   True   True  \n",
      "298  False   True  False  \n",
      "\n",
      "[146 rows x 14 columns]\n"
     ]
    }
   ],
   "source": [
    "print(l_stops_df)"
   ]
  },
  {
   "cell_type": "code",
   "execution_count": 10,
   "metadata": {},
   "outputs": [],
   "source": [
    "l_stops_df[['latitude','longitude']] =l_stops_df['Location'].str.replace('\\(|\\)','',regex=True).str.split(',',expand=True).apply(pd.to_numeric)"
   ]
  },
  {
   "cell_type": "code",
   "execution_count": 11,
   "metadata": {},
   "outputs": [],
   "source": [
    "df = pd.merge(ridership_data_df, l_stops_df, how='left', left_on='station_id',right_on='MAP_ID')"
   ]
  },
  {
   "cell_type": "code",
   "execution_count": 12,
   "metadata": {},
   "outputs": [
    {
     "data": {
      "text/html": [
       "<div>\n",
       "<style scoped>\n",
       "    .dataframe tbody tr th:only-of-type {\n",
       "        vertical-align: middle;\n",
       "    }\n",
       "\n",
       "    .dataframe tbody tr th {\n",
       "        vertical-align: top;\n",
       "    }\n",
       "\n",
       "    .dataframe thead th {\n",
       "        text-align: right;\n",
       "    }\n",
       "</style>\n",
       "<table border=\"1\" class=\"dataframe\">\n",
       "  <thead>\n",
       "    <tr style=\"text-align: right;\">\n",
       "      <th></th>\n",
       "      <th>rides</th>\n",
       "    </tr>\n",
       "    <tr>\n",
       "      <th>south_side</th>\n",
       "      <th></th>\n",
       "    </tr>\n",
       "  </thead>\n",
       "  <tbody>\n",
       "    <tr>\n",
       "      <th>False</th>\n",
       "      <td>3709.676324</td>\n",
       "    </tr>\n",
       "    <tr>\n",
       "      <th>True</th>\n",
       "      <td>3006.989564</td>\n",
       "    </tr>\n",
       "  </tbody>\n",
       "</table>\n",
       "</div>"
      ],
      "text/plain": [
       "                  rides\n",
       "south_side             \n",
       "False       3709.676324\n",
       "True        3006.989564"
      ]
     },
     "execution_count": 12,
     "metadata": {},
     "output_type": "execute_result"
    }
   ],
   "source": [
    "df['south_side'] = df['latitude'] < 41.881\n",
    "df[['south_side','rides']].groupby('south_side').mean()"
   ]
  },
  {
   "cell_type": "code",
   "execution_count": 18,
   "metadata": {},
   "outputs": [
    {
     "data": {
      "text/plain": [
       "station_id                           int64\n",
       "stationname                         object\n",
       "date                        datetime64[ns]\n",
       "daytype                             object\n",
       "rides                                int64\n",
       "STATION_NAME                        object\n",
       "STATION_DESCRIPTIVE_NAME            object\n",
       "MAP_ID                             float64\n",
       "Location                            object\n",
       "ADA                                 object\n",
       "RED                                 object\n",
       "BLUE                                object\n",
       "G                                   object\n",
       "BRN                                 object\n",
       "P                                   object\n",
       "Pexp                                object\n",
       "Y                                   object\n",
       "Pnk                                 object\n",
       "O                                   object\n",
       "latitude                           float64\n",
       "longitude                          float64\n",
       "south_side                            bool\n",
       "dtype: object"
      ]
     },
     "execution_count": 18,
     "metadata": {},
     "output_type": "execute_result"
    }
   ],
   "source": [
    "df['date'] = pd.to_datetime(df['date'])\n",
    "df.dtypes"
   ]
  },
  {
   "cell_type": "code",
   "execution_count": 20,
   "metadata": {},
   "outputs": [
    {
     "data": {
      "text/html": [
       "<div>\n",
       "<style scoped>\n",
       "    .dataframe tbody tr th:only-of-type {\n",
       "        vertical-align: middle;\n",
       "    }\n",
       "\n",
       "    .dataframe tbody tr th {\n",
       "        vertical-align: top;\n",
       "    }\n",
       "\n",
       "    .dataframe thead th {\n",
       "        text-align: right;\n",
       "    }\n",
       "</style>\n",
       "<table border=\"1\" class=\"dataframe\">\n",
       "  <thead>\n",
       "    <tr style=\"text-align: right;\">\n",
       "      <th></th>\n",
       "      <th>station_id</th>\n",
       "      <th>stationname</th>\n",
       "      <th>date</th>\n",
       "      <th>daytype</th>\n",
       "      <th>rides</th>\n",
       "      <th>STATION_NAME</th>\n",
       "      <th>STATION_DESCRIPTIVE_NAME</th>\n",
       "      <th>MAP_ID</th>\n",
       "      <th>Location</th>\n",
       "      <th>ADA</th>\n",
       "      <th>...</th>\n",
       "      <th>BRN</th>\n",
       "      <th>P</th>\n",
       "      <th>Pexp</th>\n",
       "      <th>Y</th>\n",
       "      <th>Pnk</th>\n",
       "      <th>O</th>\n",
       "      <th>latitude</th>\n",
       "      <th>longitude</th>\n",
       "      <th>south_side</th>\n",
       "      <th>year</th>\n",
       "    </tr>\n",
       "  </thead>\n",
       "  <tbody>\n",
       "    <tr>\n",
       "      <th>0</th>\n",
       "      <td>40850</td>\n",
       "      <td>Library</td>\n",
       "      <td>2004-10-09</td>\n",
       "      <td>A</td>\n",
       "      <td>1057</td>\n",
       "      <td>Harold Washington Library-State/Van Buren</td>\n",
       "      <td>Harold Washington Library-State/Van Buren (Bro...</td>\n",
       "      <td>40850.0</td>\n",
       "      <td>(41.876862, -87.628196)</td>\n",
       "      <td>True</td>\n",
       "      <td>...</td>\n",
       "      <td>True</td>\n",
       "      <td>False</td>\n",
       "      <td>True</td>\n",
       "      <td>False</td>\n",
       "      <td>True</td>\n",
       "      <td>True</td>\n",
       "      <td>41.876862</td>\n",
       "      <td>-87.628196</td>\n",
       "      <td>True</td>\n",
       "      <td>2004</td>\n",
       "    </tr>\n",
       "    <tr>\n",
       "      <th>1</th>\n",
       "      <td>40780</td>\n",
       "      <td>Central Park</td>\n",
       "      <td>2010-06-18</td>\n",
       "      <td>W</td>\n",
       "      <td>1154</td>\n",
       "      <td>Central Park</td>\n",
       "      <td>Central Park (Pink Line)</td>\n",
       "      <td>40780.0</td>\n",
       "      <td>(41.853839, -87.714842)</td>\n",
       "      <td>True</td>\n",
       "      <td>...</td>\n",
       "      <td>False</td>\n",
       "      <td>False</td>\n",
       "      <td>False</td>\n",
       "      <td>False</td>\n",
       "      <td>True</td>\n",
       "      <td>False</td>\n",
       "      <td>41.853839</td>\n",
       "      <td>-87.714842</td>\n",
       "      <td>True</td>\n",
       "      <td>2010</td>\n",
       "    </tr>\n",
       "    <tr>\n",
       "      <th>2</th>\n",
       "      <td>41500</td>\n",
       "      <td>Montrose-Brown</td>\n",
       "      <td>2001-10-30</td>\n",
       "      <td>W</td>\n",
       "      <td>2116</td>\n",
       "      <td>Montrose</td>\n",
       "      <td>Montrose (Brown Line)</td>\n",
       "      <td>41500.0</td>\n",
       "      <td>(41.961756, -87.675047)</td>\n",
       "      <td>True</td>\n",
       "      <td>...</td>\n",
       "      <td>True</td>\n",
       "      <td>False</td>\n",
       "      <td>False</td>\n",
       "      <td>False</td>\n",
       "      <td>False</td>\n",
       "      <td>False</td>\n",
       "      <td>41.961756</td>\n",
       "      <td>-87.675047</td>\n",
       "      <td>False</td>\n",
       "      <td>2001</td>\n",
       "    </tr>\n",
       "    <tr>\n",
       "      <th>3</th>\n",
       "      <td>40500</td>\n",
       "      <td>Washington/State</td>\n",
       "      <td>2006-10-26</td>\n",
       "      <td>W</td>\n",
       "      <td>0</td>\n",
       "      <td>NaN</td>\n",
       "      <td>NaN</td>\n",
       "      <td>NaN</td>\n",
       "      <td>NaN</td>\n",
       "      <td>NaN</td>\n",
       "      <td>...</td>\n",
       "      <td>NaN</td>\n",
       "      <td>NaN</td>\n",
       "      <td>NaN</td>\n",
       "      <td>NaN</td>\n",
       "      <td>NaN</td>\n",
       "      <td>NaN</td>\n",
       "      <td>NaN</td>\n",
       "      <td>NaN</td>\n",
       "      <td>False</td>\n",
       "      <td>2006</td>\n",
       "    </tr>\n",
       "    <tr>\n",
       "      <th>4</th>\n",
       "      <td>41090</td>\n",
       "      <td>Monroe/State</td>\n",
       "      <td>2010-07-07</td>\n",
       "      <td>W</td>\n",
       "      <td>9431</td>\n",
       "      <td>Monroe</td>\n",
       "      <td>Monroe (Red Line)</td>\n",
       "      <td>41090.0</td>\n",
       "      <td>(41.880745, -87.627696)</td>\n",
       "      <td>False</td>\n",
       "      <td>...</td>\n",
       "      <td>False</td>\n",
       "      <td>False</td>\n",
       "      <td>False</td>\n",
       "      <td>False</td>\n",
       "      <td>False</td>\n",
       "      <td>False</td>\n",
       "      <td>41.880745</td>\n",
       "      <td>-87.627696</td>\n",
       "      <td>True</td>\n",
       "      <td>2010</td>\n",
       "    </tr>\n",
       "  </tbody>\n",
       "</table>\n",
       "<p>5 rows × 23 columns</p>\n",
       "</div>"
      ],
      "text/plain": [
       "   station_id       stationname       date daytype  rides  \\\n",
       "0       40850           Library 2004-10-09       A   1057   \n",
       "1       40780      Central Park 2010-06-18       W   1154   \n",
       "2       41500    Montrose-Brown 2001-10-30       W   2116   \n",
       "3       40500  Washington/State 2006-10-26       W      0   \n",
       "4       41090      Monroe/State 2010-07-07       W   9431   \n",
       "\n",
       "                                STATION_NAME  \\\n",
       "0  Harold Washington Library-State/Van Buren   \n",
       "1                               Central Park   \n",
       "2                                   Montrose   \n",
       "3                                        NaN   \n",
       "4                                     Monroe   \n",
       "\n",
       "                            STATION_DESCRIPTIVE_NAME   MAP_ID  \\\n",
       "0  Harold Washington Library-State/Van Buren (Bro...  40850.0   \n",
       "1                           Central Park (Pink Line)  40780.0   \n",
       "2                              Montrose (Brown Line)  41500.0   \n",
       "3                                                NaN      NaN   \n",
       "4                                  Monroe (Red Line)  41090.0   \n",
       "\n",
       "                  Location    ADA  ...    BRN      P   Pexp      Y    Pnk  \\\n",
       "0  (41.876862, -87.628196)   True  ...   True  False   True  False   True   \n",
       "1  (41.853839, -87.714842)   True  ...  False  False  False  False   True   \n",
       "2  (41.961756, -87.675047)   True  ...   True  False  False  False  False   \n",
       "3                      NaN    NaN  ...    NaN    NaN    NaN    NaN    NaN   \n",
       "4  (41.880745, -87.627696)  False  ...  False  False  False  False  False   \n",
       "\n",
       "       O   latitude  longitude south_side  year  \n",
       "0   True  41.876862 -87.628196       True  2004  \n",
       "1  False  41.853839 -87.714842       True  2010  \n",
       "2  False  41.961756 -87.675047      False  2001  \n",
       "3    NaN        NaN        NaN      False  2006  \n",
       "4  False  41.880745 -87.627696       True  2010  \n",
       "\n",
       "[5 rows x 23 columns]"
      ]
     },
     "execution_count": 20,
     "metadata": {},
     "output_type": "execute_result"
    }
   ],
   "source": [
    "df['year'] = pd.DatetimeIndex(df['date']).year\n",
    "df.head()"
   ]
  },
  {
   "cell_type": "code",
   "execution_count": 21,
   "metadata": {},
   "outputs": [
    {
     "data": {
      "text/plain": [
       "<matplotlib.axes._subplots.AxesSubplot at 0x1a6653a3508>"
      ]
     },
     "execution_count": 21,
     "metadata": {},
     "output_type": "execute_result"
    },
    {
     "data": {
      "image/png": "[encoded data removed]",
      "text/plain": [
       "<Figure size 432x288 with 1 Axes>"
      ]
     },
     "metadata": {
      "needs_background": "light"
     },
     "output_type": "display_data"
    }
   ],
   "source": [
    "rides_by_sides = df[['year','south_side','rides']].groupby(['year','south_side']).mean().reset_index().pivot(index='year',columns='south_side',values='rides')\n",
    "rides_by_sides.columns = ['north','south']\n",
    "(rides_by_sides['north'] - rides_by_sides['south']).plot(kind='bar')"
   ]
  },
  {
   "cell_type": "code",
   "execution_count": 23,
   "metadata": {},
   "outputs": [],
   "source": [
    "engine_all = create_engine(\"sqlite:///Census_Data.sqlite\")"
   ]
  },
  {
   "cell_type": "code",
   "execution_count": null,
   "metadata": {},
   "outputs": [],
   "source": []
  }
 ],
 "metadata": {
  "kernelspec": {
   "display_name": "PythonData",
   "language": "python",
   "name": "pythondata"
  },
  "language_info": {
   "codemirror_mode": {
    "name": "ipython",
    "version": 3
   },
   "file_extension": ".py",
   "mimetype": "text/x-python",
   "name": "python",
   "nbconvert_exporter": "python",
   "pygments_lexer": "ipython3",
   "version": "3.7.6"
  }
 },
 "nbformat": 4,
 "nbformat_minor": 4
}
